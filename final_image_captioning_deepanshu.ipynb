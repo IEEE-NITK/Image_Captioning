{
  "nbformat": 4,
  "nbformat_minor": 0,
  "metadata": {
    "accelerator": "GPU",
    "colab": {
      "name": "final_image_captioning_deepanshu.ipynb",
      "provenance": [],
      "collapsed_sections": [],
      "toc_visible": true,
      "include_colab_link": true
    },
    "kernelspec": {
      "display_name": "Python 3",
      "name": "python3"
    },
    "language_info": {
      "name": "python"
    }
  },
  "cells": [
    {
      "cell_type": "markdown",
      "metadata": {
        "id": "view-in-github",
        "colab_type": "text"
      },
      "source": [
        "<a href=\"https://colab.research.google.com/github/deepanshug77/Image_Captioning/blob/deepanshu/final_image_captioning_deepanshu.ipynb\" target=\"_parent\"><img src=\"https://colab.research.google.com/assets/colab-badge.svg\" alt=\"Open In Colab\"/></a>"
      ]
    },
    {
      "cell_type": "markdown",
      "metadata": {
        "id": "TphpR7Na36NR"
      },
      "source": [
        "# IMAGE CAPTIONING"
      ]
    },
    {
      "cell_type": "markdown",
      "metadata": {
        "id": "tvLMfGZi4Ap9"
      },
      "source": [
        "IMPORTING ALL LIBRARIES"
      ]
    },
    {
      "cell_type": "code",
      "metadata": {
        "id": "nEjegGtVN5ya"
      },
      "source": [
        "import tensorflow as tf\n",
        "from tqdm import tqdm\n",
        "from glob import glob\n",
        "import cv2\n",
        "import pickle\n",
        "import nltk\n",
        "import string\n",
        "import pickle\n",
        "import warnings\n",
        "from tensorflow.keras.preprocessing.text import Tokenizer\n",
        "from tensorflow.keras.preprocessing.sequence import pad_sequences\n",
        "from tensorflow.keras.utils import to_categorical\n",
        "import numpy as np\n",
        "from tensorflow.keras.callbacks import ModelCheckpoint\n",
        "warnings.filterwarnings(\"ignore\")\n"
      ],
      "execution_count": null,
      "outputs": []
    },
    {
      "cell_type": "markdown",
      "metadata": {
        "id": "FnPvysEN35Q7"
      },
      "source": [
        ""
      ]
    },
    {
      "cell_type": "code",
      "metadata": {
        "colab": {
          "base_uri": "https://localhost:8080/"
        },
        "id": "h-QCa8nEQN75",
        "outputId": "0ee83ffa-718e-4882-d615-97484d579ecd"
      },
      "source": [
        "from google.colab import drive\n",
        "drive.mount('/content/gdrive')"
      ],
      "execution_count": null,
      "outputs": [
        {
          "output_type": "stream",
          "text": [
            "Drive already mounted at /content/gdrive; to attempt to forcibly remount, call drive.mount(\"/content/gdrive\", force_remount=True).\n"
          ],
          "name": "stdout"
        }
      ]
    },
    {
      "cell_type": "code",
      "metadata": {
        "colab": {
          "base_uri": "https://localhost:8080/"
        },
        "id": "yAlqOGEpRyVN",
        "outputId": "09a29703-9633-4f5a-df5a-e01ee5b36e9c"
      },
      "source": [
        "cd /content/gdrive"
      ],
      "execution_count": null,
      "outputs": [
        {
          "output_type": "stream",
          "text": [
            "/content/gdrive\n"
          ],
          "name": "stdout"
        }
      ]
    },
    {
      "cell_type": "code",
      "metadata": {
        "colab": {
          "base_uri": "https://localhost:8080/"
        },
        "id": "dXwvky4GR2bE",
        "outputId": "df377eb7-85a5-4314-e90f-f1627e174b11"
      },
      "source": [
        "ls \n"
      ],
      "execution_count": null,
      "outputs": [
        {
          "output_type": "stream",
          "text": [
            "\u001b[0m\u001b[01;34mMyDrive\u001b[0m/  \u001b[01;34mShareddrives\u001b[0m/\n"
          ],
          "name": "stdout"
        }
      ]
    },
    {
      "cell_type": "code",
      "metadata": {
        "colab": {
          "base_uri": "https://localhost:8080/"
        },
        "id": "h2gWafCfW9XE",
        "outputId": "073b1eef-517b-41d7-a7e1-9d4f0d569e67"
      },
      "source": [
        "% cd MyDrive/"
      ],
      "execution_count": null,
      "outputs": [
        {
          "output_type": "stream",
          "text": [
            "/content/gdrive/MyDrive\n"
          ],
          "name": "stdout"
        }
      ]
    },
    {
      "cell_type": "code",
      "metadata": {
        "colab": {
          "base_uri": "https://localhost:8080/"
        },
        "id": "ANAF9E-SXEkN",
        "outputId": "7ae151d9-eed6-4a60-9a22-324b02f05c7b"
      },
      "source": [
        "% cd kaggle/"
      ],
      "execution_count": null,
      "outputs": [
        {
          "output_type": "stream",
          "text": [
            "/content/gdrive/MyDrive/kaggle\n"
          ],
          "name": "stdout"
        }
      ]
    },
    {
      "cell_type": "code",
      "metadata": {
        "colab": {
          "base_uri": "https://localhost:8080/"
        },
        "id": "XtGFXIV0XJGd",
        "outputId": "e62a1ece-17b7-4e46-ed3a-3a9f9bf1d478"
      },
      "source": [
        "ls"
      ],
      "execution_count": null,
      "outputs": [
        {
          "output_type": "stream",
          "text": [
            "\u001b[0m\u001b[01;34mflickr30k_images\u001b[0m/  kaggle.json\n"
          ],
          "name": "stdout"
        }
      ]
    },
    {
      "cell_type": "code",
      "metadata": {
        "colab": {
          "base_uri": "https://localhost:8080/"
        },
        "id": "HYuTPLXfvVed",
        "outputId": "761f5e60-447a-4928-d15d-880cbcc1bc42"
      },
      "source": [
        "% cd flickr30k_images"
      ],
      "execution_count": null,
      "outputs": [
        {
          "output_type": "stream",
          "text": [
            "/content/gdrive/MyDrive/kaggle/flickr30k_images\n"
          ],
          "name": "stdout"
        }
      ]
    },
    {
      "cell_type": "code",
      "metadata": {
        "colab": {
          "base_uri": "https://localhost:8080/"
        },
        "id": "jJp5zhtgveLq",
        "outputId": "1ac28efe-1b69-4575-9d88-7ab0036f9261"
      },
      "source": [
        "ls"
      ],
      "execution_count": null,
      "outputs": [
        {
          "output_type": "stream",
          "text": [
            "Flickr30k_cap.txt  \u001b[0m\u001b[01;34mflickr30k_images\u001b[0m/  Flickr30k_IMG.txt  results.csv\n"
          ],
          "name": "stdout"
        }
      ]
    },
    {
      "cell_type": "code",
      "metadata": {
        "colab": {
          "base_uri": "https://localhost:8080/"
        },
        "id": "RIsQUTf4_sRv",
        "outputId": "31123787-5938-4e47-83bd-ad816911b4fd"
      },
      "source": [
        "%cd flickr30k_images/"
      ],
      "execution_count": null,
      "outputs": [
        {
          "output_type": "stream",
          "text": [
            "/content/gdrive/MyDrive/kaggle/flickr30k_images/flickr30k_images\n"
          ],
          "name": "stdout"
        }
      ]
    },
    {
      "cell_type": "markdown",
      "metadata": {
        "id": "Ia9b3Lpf4Jw0"
      },
      "source": [
        "# DECLARING CONSTANTS"
      ]
    },
    {
      "cell_type": "code",
      "metadata": {
        "id": "32sUJ3MWu9UC"
      },
      "source": [
        "# Batch size for the encoder \n",
        "BATCH_SIZE_ENC = 50\n",
        "# Batch size for the decoder\n",
        "BATCH_SIZE_DEC = 100\n",
        "# Buffer size\n",
        "BUFFER_SIZE = 1000"
      ],
      "execution_count": null,
      "outputs": []
    },
    {
      "cell_type": "code",
      "metadata": {
        "id": "TRljBIWux0Jj"
      },
      "source": [
        "# image height according the the model architecture\n",
        "IMG_H = 224\n",
        "# image width according the the model architecture\n",
        "IMG_W = 224"
      ],
      "execution_count": null,
      "outputs": []
    },
    {
      "cell_type": "code",
      "metadata": {
        "id": "mJs-ime3OLea"
      },
      "source": [
        "# Dir which contains all the images. \n",
        "IMG_FILE_PATH = \"/content/gdrive/My Drive/kaggle/flickr30k_images/flickr30k_images/\""
      ],
      "execution_count": null,
      "outputs": []
    },
    {
      "cell_type": "code",
      "metadata": {
        "id": "pqAUE43KybFJ"
      },
      "source": [
        "IMG_NAMES_TEXT_PATH = r\"/content/gdrive/MyDrive/kaggle/flickr30k_images/Flickr30k_IMG.txt\"\n",
        "CAP_TEXT_PATH = r\"/content/gdrive/MyDrive/kaggle/flickr30k_images/Flickr30k_cap.txt\""
      ],
      "execution_count": null,
      "outputs": []
    },
    {
      "cell_type": "markdown",
      "metadata": {
        "id": "4NAc14ON5E1k"
      },
      "source": [
        "# LOADING ALL THE FUNCTIONS"
      ]
    },
    {
      "cell_type": "code",
      "metadata": {
        "id": "RPYFp-pxQvoe"
      },
      "source": [
        "images_path_list = glob(IMG_FILE_PATH + '*.jpg')"
      ],
      "execution_count": null,
      "outputs": []
    },
    {
      "cell_type": "code",
      "metadata": {
        "colab": {
          "base_uri": "https://localhost:8080/"
        },
        "id": "bLo4719fYJ-p",
        "outputId": "865d2faf-bfea-41ee-c6e4-80e33025881d"
      },
      "source": [
        "image_model = tf.keras.applications.VGG16(include_top=False, weights='imagenet')\n",
        "new_input = image_model.input\n",
        "hidden_layer = image_model.layers[-1].output\n",
        "\n",
        "image_features_extract_model = tf.keras.Model(new_input, hidden_layer)\n",
        "\n",
        "print(image_features_extract_model.summary())"
      ],
      "execution_count": null,
      "outputs": [
        {
          "output_type": "stream",
          "text": [
            "Model: \"model\"\n",
            "_________________________________________________________________\n",
            "Layer (type)                 Output Shape              Param #   \n",
            "=================================================================\n",
            "input_1 (InputLayer)         [(None, None, None, 3)]   0         \n",
            "_________________________________________________________________\n",
            "block1_conv1 (Conv2D)        (None, None, None, 64)    1792      \n",
            "_________________________________________________________________\n",
            "block1_conv2 (Conv2D)        (None, None, None, 64)    36928     \n",
            "_________________________________________________________________\n",
            "block1_pool (MaxPooling2D)   (None, None, None, 64)    0         \n",
            "_________________________________________________________________\n",
            "block2_conv1 (Conv2D)        (None, None, None, 128)   73856     \n",
            "_________________________________________________________________\n",
            "block2_conv2 (Conv2D)        (None, None, None, 128)   147584    \n",
            "_________________________________________________________________\n",
            "block2_pool (MaxPooling2D)   (None, None, None, 128)   0         \n",
            "_________________________________________________________________\n",
            "block3_conv1 (Conv2D)        (None, None, None, 256)   295168    \n",
            "_________________________________________________________________\n",
            "block3_conv2 (Conv2D)        (None, None, None, 256)   590080    \n",
            "_________________________________________________________________\n",
            "block3_conv3 (Conv2D)        (None, None, None, 256)   590080    \n",
            "_________________________________________________________________\n",
            "block3_pool (MaxPooling2D)   (None, None, None, 256)   0         \n",
            "_________________________________________________________________\n",
            "block4_conv1 (Conv2D)        (None, None, None, 512)   1180160   \n",
            "_________________________________________________________________\n",
            "block4_conv2 (Conv2D)        (None, None, None, 512)   2359808   \n",
            "_________________________________________________________________\n",
            "block4_conv3 (Conv2D)        (None, None, None, 512)   2359808   \n",
            "_________________________________________________________________\n",
            "block4_pool (MaxPooling2D)   (None, None, None, 512)   0         \n",
            "_________________________________________________________________\n",
            "block5_conv1 (Conv2D)        (None, None, None, 512)   2359808   \n",
            "_________________________________________________________________\n",
            "block5_conv2 (Conv2D)        (None, None, None, 512)   2359808   \n",
            "_________________________________________________________________\n",
            "block5_conv3 (Conv2D)        (None, None, None, 512)   2359808   \n",
            "_________________________________________________________________\n",
            "block5_pool (MaxPooling2D)   (None, None, None, 512)   0         \n",
            "=================================================================\n",
            "Total params: 14,714,688\n",
            "Trainable params: 14,714,688\n",
            "Non-trainable params: 0\n",
            "_________________________________________________________________\n",
            "None\n"
          ],
          "name": "stdout"
        }
      ]
    },
    {
      "cell_type": "code",
      "metadata": {
        "colab": {
          "base_uri": "https://localhost:8080/"
        },
        "id": "VxnJOpy5RnVv",
        "outputId": "0428e43f-57e6-43f2-96da-03a80e79d62d"
      },
      "source": [
        "print(f\"{len(images_path_list)} images found from {IMG_FILE_PATH}.\")"
      ],
      "execution_count": null,
      "outputs": [
        {
          "output_type": "stream",
          "text": [
            "31783 images found from /content/gdrive/My Drive/kaggle/flickr30k_images/flickr30k_images/.\n"
          ],
          "name": "stdout"
        }
      ]
    },
    {
      "cell_type": "code",
      "metadata": {
        "id": "4nUn1rUYRrUX"
      },
      "source": [
        "def load_img(image_path: str, img_h: str = IMG_H, img_w: str = IMG_W) -> (object, str):\n",
        "    \"\"\"\n",
        "    Returns the numpy image and the image path\n",
        "    :param image_path: the path of the image\n",
        "    :param img_w: the width of image taken into the cnn\n",
        "    :param img_h: the height of image taken into the cnn\n",
        "    :return: image and image_path\n",
        "    \"\"\"\n",
        "    # Read the image\n",
        "    img = tf.io.read_file(image_path)\n",
        "    img = tf.image.decode_jpeg(img, channels=3)\n",
        "    # Resizing the image according the the model architecture\n",
        "    img = tf.image.resize(img, (img_h, img_w))\n",
        "    img = tf.keras.applications.vgg16.preprocess_input(img)\n",
        "    return img, image_path"
      ],
      "execution_count": null,
      "outputs": []
    },
    {
      "cell_type": "code",
      "metadata": {
        "id": "o5sdyfDAuBIi"
      },
      "source": [
        "def load_doc(filename: str) -> str:\n",
        "    \"\"\"\n",
        "    to open the file as read only\n",
        "    :param filename: name of the file\n",
        "    :return: the entire text as a string\n",
        "    \"\"\"\n",
        "    with open(filename, 'r') as file:\n",
        "        text = file.read()\n",
        "    return text"
      ],
      "execution_count": null,
      "outputs": []
    },
    {
      "cell_type": "code",
      "metadata": {
        "id": "EZ3G2-U6uKNc"
      },
      "source": [
        "def img_name_2_path(image_name: str, img_file_path: str = IMG_FILE_PATH, ext: str = r\".jpg\") -> str:\n",
        "    \"\"\"\n",
        "    Converts the name of the image to image path\n",
        "    :param image_name: The name of the image\n",
        "    :param img_file_path: The path where the image is stored\n",
        "    :param ext:The extension of the image default is .jpg\n",
        "    :return: The image path\n",
        "    \"\"\"\n",
        "    image_path = img_file_path + str(image_name) + ext\n",
        "    return image_path"
      ],
      "execution_count": null,
      "outputs": []
    },
    {
      "cell_type": "code",
      "metadata": {
        "id": "29TAKgphP6Iw"
      },
      "source": [
        "def load_img_dataset(txt_path: str, batch_size=BATCH_SIZE_ENC):\n",
        "    \"\"\"\n",
        "    To load the train or test dataset\n",
        "    :param txt_path: The text file which has the names of the training images\n",
        "    :param batch_size: The batch size for processing\n",
        "    :return: image_dataset\n",
        "    \"\"\"\n",
        "    img_name_vector = load_set(txt_path)\n",
        "    img_path_list = map(img_name_2_path, img_name_vector)\n",
        "    encode_train = sorted(img_path_list)\n",
        "    image_dataset = tf.data.Dataset.from_tensor_slices(encode_train)\n",
        "    image_dataset = image_dataset.map(load_img, num_parallel_calls=tf.data.experimental.AUTOTUNE).batch(batch_size)\n",
        "    return image_dataset"
      ],
      "execution_count": null,
      "outputs": []
    },
    {
      "cell_type": "code",
      "metadata": {
        "id": "lRO6gIQ6umsu"
      },
      "source": [
        "def load_set(text_file_path: str) -> set:\n",
        "    \"\"\"\n",
        "    to load a pre-defined list of photo names\n",
        "    returns the names of the images form the set_text_file\n",
        "    :param text_file_path:\n",
        "    :return:\n",
        "    \"\"\"\n",
        "    # user defined to load the document\n",
        "    doc = load_doc(text_file_path)\n",
        "    dataset = doc.split('\\n')\n",
        "    return set(dataset)"
      ],
      "execution_count": null,
      "outputs": []
    },
    {
      "cell_type": "code",
      "metadata": {
        "id": "RRw8L51FUOPn"
      },
      "source": [
        "image_train_dataset = load_img_dataset(IMG_NAMES_TEXT_PATH)"
      ],
      "execution_count": null,
      "outputs": []
    },
    {
      "cell_type": "markdown",
      "metadata": {
        "id": "2kJekuaqrneR"
      },
      "source": [
        "# Extracting features "
      ]
    },
    {
      "cell_type": "code",
      "metadata": {
        "id": "QKZxcpIqeJER"
      },
      "source": [
        "if str(input(\"Do you want to extract the features of the images[y/Y]: \")).casefold() == 'y':\n",
        "    for img, path in tqdm(image_train_dataset):\n",
        "        batch_features = image_features_extract_model(img)\n",
        "        batch_features = tf.reshape(batch_features, (batch_features.shape[0], -1, batch_features.shape[3]))\n",
        "        for bf, p in zip(batch_features, path):\n",
        "            path_of_feature = p.numpy().decode(\"utf-8\")\n",
        "            np.save(path_of_feature, bf.numpy())"
      ],
      "execution_count": null,
      "outputs": []
    },
    {
      "cell_type": "code",
      "metadata": {
        "colab": {
          "base_uri": "https://localhost:8080/"
        },
        "id": "n10_EdAhUnYD",
        "outputId": "10c2788b-99d3-4968-e0fd-e4c2eadc0913"
      },
      "source": [
        "image_train_dataset"
      ],
      "execution_count": null,
      "outputs": [
        {
          "output_type": "execute_result",
          "data": {
            "text/plain": [
              "<BatchDataset shapes: ((None, 224, 224, 3), (None,)), types: (tf.float32, tf.string)>"
            ]
          },
          "metadata": {
            "tags": []
          },
          "execution_count": 25
        }
      ]
    },
    {
      "cell_type": "markdown",
      "metadata": {
        "id": "MiMxnnSzoJn3"
      },
      "source": [
        "#captions\n"
      ]
    },
    {
      "cell_type": "code",
      "metadata": {
        "id": "pS3amXMnskXD"
      },
      "source": [
        "def load_clean_cap(caption_txt_path: str, dataset: set) -> dict:\n",
        "    \"\"\"\n",
        "    load clean descriptions into memory\n",
        "    :param caption_txt_path: The path where the clean captions were saved\n",
        "    :param dataset: the img names of the tining or test data set\n",
        "    :return: dict of captions mapped with its curr name\n",
        "    \"\"\"\n",
        "    doc = load_doc(caption_txt_path)\n",
        "    clean_captions = dict()\n",
        "    for line in doc.split('\\n'):\n",
        "        # split line by white space\n",
        "        tokens = line.split()\n",
        "        # split name and captions\n",
        "        image_name, image_cap = tokens[0], \" \".join(tokens[1:])\n",
        "        # skip the images which are not in the set.\n",
        "        if image_name in dataset:\n",
        "            # creating a list\n",
        "            if image_name not in clean_captions:\n",
        "                clean_captions[image_name] = list()\n",
        "            clean_captions[image_name].append(image_cap)\n",
        "    return clean_captions\n"
      ],
      "execution_count": null,
      "outputs": []
    },
    {
      "cell_type": "code",
      "metadata": {
        "colab": {
          "base_uri": "https://localhost:8080/",
          "height": 35
        },
        "id": "TjmbtmAGvz5G",
        "outputId": "b20b72a0-4a14-450e-cbe3-d0be40cac2ad"
      },
      "source": [
        "IMG_NAMES_TEXT_PATH"
      ],
      "execution_count": null,
      "outputs": [
        {
          "output_type": "execute_result",
          "data": {
            "application/vnd.google.colaboratory.intrinsic+json": {
              "type": "string"
            },
            "text/plain": [
              "'/content/gdrive/MyDrive/kaggle/flickr30k_images/Flickr30k_IMG.txt'"
            ]
          },
          "metadata": {
            "tags": []
          },
          "execution_count": 27
        }
      ]
    },
    {
      "cell_type": "code",
      "metadata": {
        "id": "Gv0Qyyrvv3lg"
      },
      "source": [
        "train_img_names = sorted(load_set(IMG_NAMES_TEXT_PATH))"
      ],
      "execution_count": null,
      "outputs": []
    },
    {
      "cell_type": "code",
      "metadata": {
        "colab": {
          "base_uri": "https://localhost:8080/"
        },
        "id": "xLVVzp0hv9Z0",
        "outputId": "5c70786e-35e3-4c50-abb3-45bddb6b8d91"
      },
      "source": [
        "train_img_names[:10]"
      ],
      "execution_count": null,
      "outputs": [
        {
          "output_type": "execute_result",
          "data": {
            "text/plain": [
              "['1000092795',\n",
              " '10002456',\n",
              " '1000268201',\n",
              " '1000344755',\n",
              " '1000366164',\n",
              " '1000523639',\n",
              " '1000919630',\n",
              " '10010052',\n",
              " '1001465944',\n",
              " '1001545525']"
            ]
          },
          "metadata": {
            "tags": []
          },
          "execution_count": 29
        }
      ]
    },
    {
      "cell_type": "code",
      "metadata": {
        "colab": {
          "base_uri": "https://localhost:8080/",
          "height": 35
        },
        "id": "ir3Y60NTv_cz",
        "outputId": "d862557a-a2be-450e-c911-8051eb6f179f"
      },
      "source": [
        "CAP_TEXT_PATH"
      ],
      "execution_count": null,
      "outputs": [
        {
          "output_type": "execute_result",
          "data": {
            "application/vnd.google.colaboratory.intrinsic+json": {
              "type": "string"
            },
            "text/plain": [
              "'/content/gdrive/MyDrive/kaggle/flickr30k_images/Flickr30k_cap.txt'"
            ]
          },
          "metadata": {
            "tags": []
          },
          "execution_count": 30
        }
      ]
    },
    {
      "cell_type": "code",
      "metadata": {
        "id": "rwZLAIrYwDx0"
      },
      "source": [
        "train_img_cap = load_clean_cap(CAP_TEXT_PATH, train_img_names)"
      ],
      "execution_count": null,
      "outputs": []
    },
    {
      "cell_type": "code",
      "metadata": {
        "colab": {
          "base_uri": "https://localhost:8080/"
        },
        "id": "MvelKAiSwJK0",
        "outputId": "853365ed-0c6a-4353-a6ad-fcac8d3ed3ef"
      },
      "source": [
        "len(train_img_cap)"
      ],
      "execution_count": null,
      "outputs": [
        {
          "output_type": "execute_result",
          "data": {
            "text/plain": [
              "31783"
            ]
          },
          "metadata": {
            "tags": []
          },
          "execution_count": 32
        }
      ]
    },
    {
      "cell_type": "code",
      "metadata": {
        "id": "wlfL7_oLwNuf"
      },
      "source": [
        "def max_len(clean_captions: dict) -> int:\n",
        "    \"\"\"\n",
        "    Returns the length of the caption with most words\n",
        "    :param clean_captions: a dictionary of captions\n",
        "    :return: length of the longest caption\n",
        "    \"\"\"\n",
        "    # Converts a dictionary of clean captions and returns a list of captions.\n",
        "    clean_captions_list = [caption.split() for captions in clean_captions.values()\n",
        "                           for caption in captions]\n",
        "    return max(len(caption) for caption in clean_captions_list)\n",
        "    "
      ],
      "execution_count": null,
      "outputs": []
    },
    {
      "cell_type": "code",
      "metadata": {
        "colab": {
          "base_uri": "https://localhost:8080/"
        },
        "id": "P4Af9MQNwRBm",
        "outputId": "17cbb570-fd77-4dbb-af44-b4a9a930a5ac"
      },
      "source": [
        "MAX_CAP_LEN = max_len(train_img_cap)\n",
        "print(MAX_CAP_LEN)\n",
        "MAX_CAP_LEN = 50"
      ],
      "execution_count": null,
      "outputs": [
        {
          "output_type": "stream",
          "text": [
            "74\n"
          ],
          "name": "stdout"
        }
      ]
    },
    {
      "cell_type": "markdown",
      "metadata": {
        "id": "BlonqeZG0vIU"
      },
      "source": [
        "tokenizing words\n"
      ]
    },
    {
      "cell_type": "code",
      "metadata": {
        "id": "rVBTbeIugKsL"
      },
      "source": [
        "def create_tokenizer(captions_dict: dict, top_k: int = 5000) -> Tokenizer:\n",
        "    \"\"\"\n",
        "    Fit a tokenizer given caption descriptions\n",
        "    :param captions_dict: (dict) of clean captions\n",
        "    :param top_k: number of words in vocabulary\n",
        "    :return: tokenizer object\n",
        "    \"\"\"\n",
        "    clean_captions_list = [caption for captions in captions_dict.values()\n",
        "                           for caption in captions]\n",
        "    tokenizer = Tokenizer(num_words=top_k, oov_token=\"<unk>\")\n",
        "    # Map '<pad>' to '0'\n",
        "    tokenizer.word_index['<pad>'] = 0\n",
        "    tokenizer.index_word[0] = '<pad>'\n",
        "    tokenizer.fit_on_texts(clean_captions_list)\n",
        "    return tokenizer\n",
        "\n",
        "\n",
        "    "
      ],
      "execution_count": null,
      "outputs": []
    },
    {
      "cell_type": "code",
      "metadata": {
        "id": "6zGcjAthgQ3t"
      },
      "source": [
        "tokenizer = create_tokenizer(train_img_cap)"
      ],
      "execution_count": null,
      "outputs": []
    },
    {
      "cell_type": "code",
      "metadata": {
        "colab": {
          "base_uri": "https://localhost:8080/"
        },
        "id": "3zLKHZyc_C_P",
        "outputId": "667904d4-6666-407e-e4bc-6b088e0334ce"
      },
      "source": [
        "VOCAB_SIZE = len(tokenizer.word_index) + 1\n",
        "print(VOCAB_SIZE)"
      ],
      "execution_count": null,
      "outputs": [
        {
          "output_type": "stream",
          "text": [
            "16860\n"
          ],
          "name": "stdout"
        }
      ]
    },
    {
      "cell_type": "code",
      "metadata": {
        "id": "mFHP4zWu_Lug"
      },
      "source": [
        "def tokenize_cap(tokenizer: Tokenizer, captions_dict: dict, pad_len: int = MAX_CAP_LEN) -> dict:\n",
        "    \"\"\"\n",
        "    Tokenizes the captions and\n",
        "    :param pad_len: The maximum caption length in the whole dataset\n",
        "    (should include both train and test dataset)\n",
        "    :param tokenizer: Tokenizer object\n",
        "    :param captions_dict: The dict of train/test cap which have to be tokenized\n",
        "    :return: A dict of tokenized captions\n",
        "    \"\"\"\n",
        "    pad_caps_dict = {img_name: pad_sequences(tokenizer.texts_to_sequences(captions), maxlen=pad_len, padding='post',truncating='post')\n",
        "                     for img_name, captions in captions_dict.items()}\n",
        "    return pad_caps_dict\n",
        "      "
      ],
      "execution_count": null,
      "outputs": []
    },
    {
      "cell_type": "code",
      "metadata": {
        "id": "YVIUJLfw0k1u"
      },
      "source": [
        "def path_cap_list(img_names_set: set, tokenizer: Tokenizer, captions_dict) -> (list, list):\n",
        "    \"\"\"\n",
        "    a list of image paths and a list of captions for images with corresponding values\n",
        "    Note: the captions will be tokenized and padded in this function\n",
        "    :param img_names_set: The set on which the processing is done\n",
        "    :param tokenizer: tokenizer\n",
        "    :param captions_dict: clean captions for that set without any tokenization\n",
        "    \"\"\"\n",
        "    tokenized_caps_dict = tokenize_cap(tokenizer, captions_dict)\n",
        "    image_name_list = sorted(img_names_set)\n",
        "    capt_list = [cap for name in image_name_list for cap in tokenized_caps_dict[name]]\n",
        "    img_path_list = [img_name_2_path(name) for name in image_name_list for i in range(len(tokenized_caps_dict[name]))]\n",
        "    return img_path_list, capt_list"
      ],
      "execution_count": null,
      "outputs": []
    },
    {
      "cell_type": "code",
      "metadata": {
        "id": "FLU_NBcP0nDF"
      },
      "source": [
        "def create_dataset(img_path_list: str, cap_list: str) -> object:\n",
        "    \"\"\"\n",
        "    :param img_path_list: The ordered list of img paths with duplication acc to number of captions  \n",
        "    :param cap_list: the padded caption list with the curr order \n",
        "    :return: dataset \n",
        "    \"\"\"\n",
        "    dataset = tf.data.Dataset.from_tensor_slices((img_path_list, cap_list))\n",
        "    # Use map to load the numpy files in parallel\n",
        "    dataset = dataset.map(lambda item1, item2: tf.numpy_function(load_npy, [item1, item2], [tf.float32, tf.int32]),\n",
        "                          num_parallel_calls=tf.data.experimental.AUTOTUNE)\n",
        "    # Shuffle and batch\n",
        "    dataset = dataset.shuffle(BUFFER_SIZE).batch(BATCH_SIZE_DEC).prefetch(buffer_size=tf.data.experimental.AUTOTUNE)\n",
        "    return dataset"
      ],
      "execution_count": null,
      "outputs": []
    },
    {
      "cell_type": "code",
      "metadata": {
        "id": "9_w96bsmwkhf"
      },
      "source": [
        "def load_npy(image_path: str, cap: str) -> (str, str):\n",
        "    \"\"\"\n",
        "    :returns image tensor vector with the image path \n",
        "    :param image_path: \n",
        "    :param cap: \n",
        "    \"\"\"\n",
        "    img_tensor = np.load(image_path.decode('utf-8') + '.npy')\n",
        "    return img_tensor, cap"
      ],
      "execution_count": null,
      "outputs": []
    },
    {
      "cell_type": "markdown",
      "metadata": {
        "id": "R63hJwZuwzdq"
      },
      "source": [
        "# train"
      ]
    },
    {
      "cell_type": "code",
      "metadata": {
        "id": "lkPkMRLBw4ua"
      },
      "source": [
        "img_name_train, caption_train = path_cap_list(train_img_names, tokenizer, train_img_cap)"
      ],
      "execution_count": null,
      "outputs": []
    },
    {
      "cell_type": "code",
      "metadata": {
        "id": "dsUdMg9P1Hd7"
      },
      "source": [
        "train_dataset = create_dataset(img_name_train, caption_train)"
      ],
      "execution_count": null,
      "outputs": []
    },
    {
      "cell_type": "code",
      "metadata": {
        "id": "Gmb1hJmq1x7h"
      },
      "source": [
        "embedding_dim = 256\n",
        "units = 512\n",
        "vocab_size = len(tokenizer.word_index) + 1 \n",
        "num_steps = len(train_img_names) // BATCH_SIZE_DEC \n",
        "EPOCHS = 20\n",
        "# Shape from last layer of VGG-16 :(7,7,512)\n",
        "# So, say there are 49 pixel locations now and each pixel is 512 dimensional\n",
        "features_shape = 512\n",
        "attention_features_shape = 49 "
      ],
      "execution_count": null,
      "outputs": []
    },
    {
      "cell_type": "markdown",
      "metadata": {
        "id": "_BmwJlkM2nxr"
      },
      "source": [
        "# MODEL\n"
      ]
    },
    {
      "cell_type": "code",
      "metadata": {
        "id": "sjpwCzCS2roF"
      },
      "source": [
        "class BahdanauAttention(tf.keras.Model):\n",
        "  def __init__(self, units):\n",
        "    super(BahdanauAttention, self).__init__()\n",
        "    self.W1 = tf.keras.layers.Dense(units)\n",
        "    self.W2 = tf.keras.layers.Dense(units)\n",
        "    self.V = tf.keras.layers.Dense(1)\n",
        "\n",
        "  def call(self, features, hidden):\n",
        "    # features(CNN_encoder output) shape == (batch_size, 64, embedding_dim)\n",
        "\n",
        "    # hidden shape == (batch_size, hidden_size)\n",
        "    # hidden_with_time_axis shape == (batch_size, 1, hidden_size)\n",
        "    hidden_with_time_axis = tf.expand_dims(hidden, 1)\n",
        "\n",
        "    # attention_hidden_layer shape == (batch_size, 64, units)\n",
        "    attention_hidden_layer = (tf.nn.tanh(self.W1(features) +\n",
        "                                         self.W2(hidden_with_time_axis)))\n",
        "\n",
        "    # score shape == (batch_size, 64, 1)\n",
        "    # This gives you an unnormalized score for each image feature.\n",
        "    score = self.V(attention_hidden_layer)\n",
        "\n",
        "    # attention_weights shape == (batch_size, 64, 1)\n",
        "    attention_weights = tf.nn.softmax(score, axis=1)\n",
        "\n",
        "    # context_vector shape after sum == (batch_size, hidden_size)\n",
        "    context_vector = attention_weights * features\n",
        "    context_vector = tf.reduce_sum(context_vector, axis=1)\n",
        "\n",
        "    return context_vector, attention_weights\n",
        "    "
      ],
      "execution_count": null,
      "outputs": []
    },
    {
      "cell_type": "code",
      "metadata": {
        "id": "tv1OCLSe2zv1"
      },
      "source": [
        "class CNN_Encoder(tf.keras.Model):\n",
        "    # Since you have already extracted the features and dumped it\n",
        "    # This encoder passes those features through a Fully connected layer\n",
        "    def __init__(self, embedding_dim):\n",
        "        super(CNN_Encoder, self).__init__()\n",
        "        # shape after fc == (batch_size, 49, embedding_dim)\n",
        "        self.fc = tf.keras.layers.Dense(embedding_dim)\n",
        "\n",
        "    def call(self, x):\n",
        "        x = self.fc(x)\n",
        "        x = tf.nn.relu(x)\n",
        "        return x"
      ],
      "execution_count": null,
      "outputs": []
    },
    {
      "cell_type": "code",
      "metadata": {
        "id": "FTL-wo6x20l1"
      },
      "source": [
        "class RNN_Decoder(tf.keras.Model):\n",
        "  def __init__(self, embedding_dim, units, vocab_size):\n",
        "    super(RNN_Decoder, self).__init__()\n",
        "    self.units = units\n",
        "\n",
        "    self.embedding = tf.keras.layers.Embedding(vocab_size, embedding_dim)\n",
        "#     self.cudnn = tf.compat.v1.keras.layers.CuDNNLSTM(self.units, \n",
        "#                                         return_sequences=True, \n",
        "#                                         return_state=True, \n",
        "#                                         recurrent_initializer='glorot_uniform')\n",
        "    self.gru = tf.compat.v1.keras.layers.CuDNNGRU(self.units,\n",
        "                                   return_sequences=True,\n",
        "                                   return_state=True,\n",
        "                                   recurrent_initializer='glorot_uniform')\n",
        "    self.fc1 = tf.keras.layers.Dense(self.units)\n",
        "    self.fc2 = tf.keras.layers.Dense(vocab_size)\n",
        "\n",
        "    self.attention = BahdanauAttention(self.units)\n",
        "\n",
        "  def call(self, x, features, hidden):\n",
        "    # defining attention as a separate model\n",
        "    context_vector, attention_weights = self.attention(features, hidden)\n",
        "\n",
        "    # x shape after passing through embedding == (batch_size, 1, embedding_dim)\n",
        "    x = self.embedding(x)\n",
        "\n",
        "    # x shape after concatenation == (batch_size, 1, embedding_dim + hidden_size)\n",
        "    x = tf.concat([tf.expand_dims(context_vector, 1), x], axis=-1)\n",
        "\n",
        "    # passing the concatenated vector to the GRU\n",
        "    output, state = self.gru(x)\n",
        "\n",
        "    # shape == (batch_size, MAX_CAP_LEN, hidden_size)\n",
        "    x = self.fc1(output)\n",
        "\n",
        "    # x shape == (batch_size * MAX_CAP_LEN, hidden_size)\n",
        "    x = tf.reshape(x, (-1, x.shape[2]))\n",
        "\n",
        "    # output shape == (batch_size * MAX_CAP_LEN, vocab)\n",
        "    x = self.fc2(x)\n",
        "\n",
        "    return x, state, attention_weights\n",
        "\n",
        "  def reset_state(self, batch_size):\n",
        "    return tf.zeros((batch_size, self.units))"
      ],
      "execution_count": null,
      "outputs": []
    },
    {
      "cell_type": "code",
      "metadata": {
        "id": "0sA97GP520jm"
      },
      "source": [
        "encoder = CNN_Encoder(embedding_dim)\n",
        "decoder = RNN_Decoder(embedding_dim, units, vocab_size)"
      ],
      "execution_count": null,
      "outputs": []
    },
    {
      "cell_type": "code",
      "metadata": {
        "colab": {
          "base_uri": "https://localhost:8080/"
        },
        "id": "_Q-eaw3x20go",
        "outputId": "8f157212-9658-4ff2-a946-923075ed7cca"
      },
      "source": [
        "decoder.gru"
      ],
      "execution_count": null,
      "outputs": [
        {
          "output_type": "execute_result",
          "data": {
            "text/plain": [
              "<tensorflow.python.keras.layers.cudnn_recurrent.CuDNNGRU at 0x7ff502617810>"
            ]
          },
          "metadata": {
            "tags": []
          },
          "execution_count": 49
        }
      ]
    },
    {
      "cell_type": "code",
      "metadata": {
        "colab": {
          "base_uri": "https://localhost:8080/"
        },
        "id": "aYEflGF120I6",
        "outputId": "3854298a-61d8-4de8-e3b2-e09b769f37f7"
      },
      "source": [
        "encoder"
      ],
      "execution_count": null,
      "outputs": [
        {
          "output_type": "execute_result",
          "data": {
            "text/plain": [
              "<__main__.CNN_Encoder at 0x7ff5034eb050>"
            ]
          },
          "metadata": {
            "tags": []
          },
          "execution_count": 50
        }
      ]
    },
    {
      "cell_type": "code",
      "metadata": {
        "id": "ZYezcYV43GTy"
      },
      "source": [
        "optimizer = tf.keras.optimizers.Adam()\n",
        "loss_object = tf.keras.losses.SparseCategoricalCrossentropy(\n",
        "    from_logits=True, reduction='none')\n",
        "\n",
        "\n",
        "def loss_function(real, pred):\n",
        "  mask = tf.math.logical_not(tf.math.equal(real, 0))\n",
        "  loss_ = loss_object(real, pred)\n",
        "\n",
        "  mask = tf.cast(mask, dtype=loss_.dtype)\n",
        "  loss_ *= mask\n",
        "\n",
        "  return tf.reduce_mean(loss_)"
      ],
      "execution_count": null,
      "outputs": []
    },
    {
      "cell_type": "markdown",
      "metadata": {
        "id": "uxjLQMrM3MQJ"
      },
      "source": [
        "# checkpoint\n"
      ]
    },
    {
      "cell_type": "code",
      "metadata": {
        "id": "XcvSCvM23S8A"
      },
      "source": [
        "checkpoint_path = \"./checkpoints/train\"\n",
        "ckpt = tf.train.Checkpoint(encoder=encoder,\n",
        "                           decoder=decoder,\n",
        "                           optimizer=optimizer)\n",
        "ckpt_manager = tf.train.CheckpointManager(ckpt, checkpoint_path, max_to_keep=5)"
      ],
      "execution_count": null,
      "outputs": []
    },
    {
      "cell_type": "code",
      "metadata": {
        "id": "scWhKGOs3S0F"
      },
      "source": [
        "start_epoch = 0\n",
        "if ckpt_manager.latest_checkpoint:\n",
        "  start_epoch = int(ckpt_manager.latest_checkpoint.split('-')[-1])\n",
        "  # restoring the latest checkpoint in checkpoint_path\n",
        "  ckpt.restore(ckpt_manager.latest_checkpoint)"
      ],
      "execution_count": null,
      "outputs": []
    },
    {
      "cell_type": "markdown",
      "metadata": {
        "id": "HYWs8Eqb3a8W"
      },
      "source": [
        "# TRAIN"
      ]
    },
    {
      "cell_type": "code",
      "metadata": {
        "id": "3mKj7Kng3fgm"
      },
      "source": [
        "# adding this in a separate cell because if you run the training cell\n",
        "# many times, the loss_plot array will be reset\n",
        "loss_plot = []"
      ],
      "execution_count": null,
      "outputs": []
    },
    {
      "cell_type": "code",
      "metadata": {
        "id": "UU7CSYPY3iWB"
      },
      "source": [
        "@tf.function\n",
        "def train_step(img_tensor, target):\n",
        "  loss = 0\n",
        "\n",
        "  # initializing the hidden state for each batch\n",
        "  # because the captions are not related from image to image\n",
        "  hidden = decoder.reset_state(batch_size=target.shape[0])\n",
        "\n",
        "  dec_input = tf.expand_dims([tokenizer.word_index['startofseq']] * target.shape[0], 1)\n",
        "\n",
        "  with tf.GradientTape() as tape:\n",
        "      features = encoder(img_tensor)\n",
        "\n",
        "      for i in range(1, target.shape[1]):\n",
        "          # passing the features through the decoder\n",
        "          predictions, hidden, _ = decoder(dec_input, features, hidden)\n",
        "\n",
        "          loss += loss_function(target[:, i], predictions)\n",
        "\n",
        "          # using teacher forcing\n",
        "          dec_input = tf.expand_dims(target[:, i], 1)\n",
        "\n",
        "  total_loss = (loss / int(target.shape[1]))\n",
        "\n",
        "  trainable_variables = encoder.trainable_variables + decoder.trainable_variables\n",
        "\n",
        "  gradients = tape.gradient(loss, trainable_variables)\n",
        "\n",
        "  optimizer.apply_gradients(zip(gradients, trainable_variables))\n",
        "\n",
        "  return loss, total_loss"
      ],
      "execution_count": null,
      "outputs": []
    },
    {
      "cell_type": "code",
      "metadata": {
        "id": "JKF0by952xsI"
      },
      "source": [
        "# Loading weights \n",
        "encoder.load_weights(\"Encoder_train_1_30k.h5\")\n",
        "decoder.load_weights(\"Decoder_train_1_30k.h5\")"
      ],
      "execution_count": null,
      "outputs": []
    },
    {
      "cell_type": "code",
      "metadata": {
        "id": "zW3O4Uzp4Zc6"
      },
      "source": [
        "import time"
      ],
      "execution_count": null,
      "outputs": []
    },
    {
      "cell_type": "code",
      "metadata": {
        "colab": {
          "base_uri": "https://localhost:8080/"
        },
        "id": "s0WylpZqzEb8",
        "outputId": "14efc0df-cd82-43fe-846b-87573643a128"
      },
      "source": [
        "EPOCHS = 1\n",
        "\n",
        "for epoch in range(start_epoch, EPOCHS):\n",
        "    start = time.time()\n",
        "    total_loss = 0\n",
        "\n",
        "    for (batch, (img_tensor, target)) in enumerate(train_dataset):\n",
        "        batch_loss, t_loss = train_step(img_tensor, target)\n",
        "        total_loss += t_loss\n",
        "\n",
        "        if batch % 100 == 0:\n",
        "            average_batch_loss = batch_loss.numpy()/int(target.shape[1])\n",
        "            print(f'Epoch {epoch+1} Batch {batch} Loss {average_batch_loss:.4f}')\n",
        "    # storing the epoch end loss value to plot later\n",
        "    loss_plot.append(total_loss / num_steps)\n",
        "\n",
        "    if epoch % 5 == 0:\n",
        "      ckpt_manager.save()\n",
        "\n",
        "    print(f'Epoch {epoch+1} Loss {total_loss/num_steps:.6f}')\n",
        "    print(f'Time taken for 1 epoch {time.time()-start:.2f} sec\\n')"
      ],
      "execution_count": null,
      "outputs": [
        {
          "output_type": "stream",
          "text": [
            "Epoch 1 Batch 0 Loss 0.9522\n",
            "Epoch 1 Batch 100 Loss 0.9352\n",
            "Epoch 1 Batch 200 Loss 0.7898\n",
            "Epoch 1 Batch 300 Loss 0.7913\n",
            "Epoch 1 Batch 400 Loss 0.8793\n",
            "Epoch 1 Batch 500 Loss 0.7482\n",
            "Epoch 1 Batch 600 Loss 0.7342\n",
            "Epoch 1 Batch 700 Loss 0.7428\n",
            "Epoch 1 Batch 800 Loss 0.6772\n",
            "Epoch 1 Batch 900 Loss 0.7049\n",
            "Epoch 1 Batch 1000 Loss 0.7158\n",
            "Epoch 1 Batch 1100 Loss 0.6745\n",
            "Epoch 1 Batch 1200 Loss 0.7305\n",
            "Epoch 1 Batch 1300 Loss 0.8418\n",
            "Epoch 1 Batch 1400 Loss 0.7757\n",
            "Epoch 1 Batch 1500 Loss 0.8156\n",
            "Epoch 1 Batch 1600 Loss 0.9013\n",
            "Epoch 1 Batch 1700 Loss 0.7170\n",
            "Epoch 1 Batch 1800 Loss 0.8516\n",
            "Epoch 1 Batch 1900 Loss 0.8143\n",
            "Epoch 1 Batch 2000 Loss 0.7565\n",
            "Epoch 1 Batch 2100 Loss 0.7624\n",
            "Epoch 1 Batch 2200 Loss 0.8069\n",
            "Epoch 1 Batch 2300 Loss 0.8972\n",
            "Epoch 1 Batch 2400 Loss 0.9720\n",
            "Epoch 1 Batch 2500 Loss 0.8362\n",
            "Epoch 1 Batch 2600 Loss 0.8402\n",
            "Epoch 1 Loss 6.785010\n",
            "Time taken for 1 epoch 1690.62 sec\n",
            "\n"
          ],
          "name": "stdout"
        }
      ]
    },
    {
      "cell_type": "markdown",
      "metadata": {
        "id": "VEbTK0D1PLol"
      },
      "source": [
        "# CAPTION"
      ]
    },
    {
      "cell_type": "code",
      "metadata": {
        "id": "OOICtYMvJAfT"
      },
      "source": [
        "def evaluate(image):\n",
        "    attention_plot = np.zeros((MAX_CAP_LEN, attention_features_shape))\n",
        "\n",
        "    hidden = decoder.reset_state(batch_size=1)\n",
        "\n",
        "    temp_input = tf.expand_dims(load_img(image)[0], 0)\n",
        "    img_tensor_val = image_features_extract_model(temp_input)\n",
        "    img_tensor_val = tf.reshape(img_tensor_val, (img_tensor_val.shape[0],\n",
        "                                                 -1,\n",
        "                                                 img_tensor_val.shape[3]))\n",
        "    features = encoder(img_tensor_val)\n",
        "\n",
        "    dec_input = tf.expand_dims([tokenizer.word_index['startofseq']], 0)\n",
        "    result = []\n",
        "\n",
        "    for i in range(MAX_CAP_LEN):\n",
        "        predictions, hidden, attention_weights = decoder(dec_input,\n",
        "                                                         features,\n",
        "                                                         hidden)\n",
        "\n",
        "        attention_plot[i] = tf.reshape(attention_weights, (-1, )).numpy()\n",
        "\n",
        "        predicted_id = tf.random.categorical(predictions, 1)[0][0].numpy()\n",
        "        result.append(tokenizer.index_word[predicted_id])\n",
        "\n",
        "        if tokenizer.index_word[predicted_id] == 'endofseq':\n",
        "            return result, attention_plot\n",
        "\n",
        "        dec_input = tf.expand_dims([predicted_id], 0)\n",
        "\n",
        "    attention_plot = attention_plot[:len(result), :]\n",
        "    return result, attention_plot"
      ],
      "execution_count": null,
      "outputs": []
    },
    {
      "cell_type": "code",
      "metadata": {
        "id": "jm0oXRB0PVBi"
      },
      "source": [
        "def plot_attention(image, result, attention_plot):\n",
        "    temp_image = np.array(Image.open(image))\n",
        "\n",
        "    fig = plt.figure(figsize=(10, 10))\n",
        "\n",
        "    len_result = len(result)\n",
        "    for i in range(len_result):\n",
        "        temp_att = np.resize(attention_plot[i], (8, 8))\n",
        "        grid_size = max(np.ceil(len_result/2), 2)\n",
        "        ax = fig.add_subplot(grid_size, grid_size, i+1)\n",
        "        ax.set_title(result[i])\n",
        "        img = ax.imshow(temp_image)\n",
        "        ax.imshow(temp_att, cmap='gray', alpha=0.6, extent=img.get_extent())\n",
        "\n",
        "    plt.tight_layout()\n",
        "    plt.show()"
      ],
      "execution_count": null,
      "outputs": []
    },
    {
      "cell_type": "code",
      "metadata": {
        "id": "OFvfc4moPU5l"
      },
      "source": [
        "image_name = train_img_names[np.random.randint(0, len(train_img_cap))]\n",
        "img_path = img_name_2_path(image_name)\n",
        "real_captions = train_img_cap[image_name]"
      ],
      "execution_count": null,
      "outputs": []
    },
    {
      "cell_type": "code",
      "metadata": {
        "id": "yYFq475W6rzk"
      },
      "source": [
        "from PIL import Image\n",
        "import matplotlib.pyplot as plt"
      ],
      "execution_count": null,
      "outputs": []
    },
    {
      "cell_type": "code",
      "metadata": {
        "colab": {
          "base_uri": "https://localhost:8080/",
          "height": 321
        },
        "id": "sGAL_pGWPbgL",
        "outputId": "467bdabf-69a1-442f-88ca-d0b0755cc266"
      },
      "source": [
        "result, attention_plot = evaluate(img_path)\n",
        "print('Prediction Caption:', ' '.join(result))\n",
        "print('Real Captions:')\n",
        "for i, cap in enumerate(real_captions):\n",
        "    print(f\"{i+1}) {cap}\")\n",
        "plot_attention(img_path, result, attention_plot)"
      ],
      "execution_count": null,
      "outputs": [
        {
          "output_type": "stream",
          "text": [
            "Prediction Caption: an older woman stand next to the two singer is around center of an audience endofseq\n",
            "Real Captions:\n",
            "1) startofseq woman in knit cap and man in peacoat sit on subway laden with bag endofseq\n",
            "2) startofseq two people wearing black sit on bench and look down endofseq\n",
            "3) startofseq two woman are sitting with their purse in their lap endofseq\n",
            "4) startofseq people in dark clothing sit together endofseq\n",
            "5) startofseq three people sitting on bench endofseq\n"
          ],
          "name": "stdout"
        },
        {
          "output_type": "display_data",
          "data": {
            "image/png": "[encoded data removed]",
            "text/plain": [
              "<Figure size 720x720 with 16 Axes>"
            ]
          },
          "metadata": {
            "tags": [],
            "needs_background": "light"
          }
        }
      ]
    },
    {
      "cell_type": "markdown",
      "metadata": {
        "id": "nqbc7XRmPeL2"
      },
      "source": [
        "# WEIGHTS"
      ]
    },
    {
      "cell_type": "code",
      "metadata": {
        "id": "2nq9iAkhPgdt"
      },
      "source": [
        "if os.path.isfile(\"Encoder_train_1_30k.h5\") is False:\n",
        "    encoder.save_weights(\"Encoder_train_1_30k.h5\")\n",
        "    print(\"Encoder saved\")"
      ],
      "execution_count": null,
      "outputs": []
    },
    {
      "cell_type": "code",
      "metadata": {
        "id": "oZGzgLo-Pjf2"
      },
      "source": [
        "if os.path.isfile(\"Decoder_train_1_30k.h5\") is False:\n",
        "    decoder.save_weights(\"Decoder_train_1_30k.h5\")\n",
        "    print(\"Decoder saved\")"
      ],
      "execution_count": null,
      "outputs": []
    },
    {
      "cell_type": "markdown",
      "metadata": {
        "id": "nVrT0nbb4qGI"
      },
      "source": [
        "# TESTING "
      ]
    },
    {
      "cell_type": "code",
      "metadata": {
        "id": "9CJdHO7e4srN"
      },
      "source": [
        "img_path = str(input(\"Enter the image path: \"))"
      ],
      "execution_count": null,
      "outputs": []
    },
    {
      "cell_type": "code",
      "metadata": {
        "id": "u87riJqM4xOk"
      },
      "source": [
        "img_path"
      ],
      "execution_count": null,
      "outputs": []
    },
    {
      "cell_type": "code",
      "metadata": {
        "id": "rTd8KJx84y3P"
      },
      "source": [
        "result, attention_plot = evaluate(img_path)\n",
        "print('Prediction Caption:', ' '.join(result))\n",
        "plot_attention(img_path, result, attention_plot)\n",
        "# opening the image\n",
        "Image.open(img_path)"
      ],
      "execution_count": null,
      "outputs": []
    }
  ]
}