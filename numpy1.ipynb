{
 "cells": [
  {
   "cell_type": "code",
   "execution_count": 4,
   "metadata": {},
   "outputs": [
    {
     "name": "stdout",
     "output_type": "stream",
     "text": [
      "(3, 1)\n",
      "(3, 1)\n",
      "20\n",
      "20\n",
      "elemwise multiplication : [ 2  6 12]\n",
      "[[10. 20. 30.]\n",
      " [40. 50. 60.]]\n",
      "[[10 20 30]\n",
      " [40 50 60]]\n",
      "[[ 2  8 18]\n",
      " [32 50 72]]\n",
      "[[ 28  64]\n",
      " [ 64 154]]\n"
     ]
    }
   ],
   "source": [
    "import numpy as np\n",
    "a=np.ones((3,3))\n",
    "b=np.ones((3,1))\n",
    "print(np.shape(np.dot(a,b)))\n",
    "print(np.shape(np.matmul(a,b)))\n",
    "c=np.array([1,2,3])\n",
    "d=np.array([2,3,4])\n",
    "print(np.dot(c,d))\n",
    "print(np.matmul(c,d))\n",
    "print(\"elemwise multiplication :\",c*d)\n",
    "import numpy as np\n",
    "e=np.array([[2,4,6],[8,10,12]])\n",
    "f=np.array([[1,2,3],[4,5,6]])\n",
    "print(5.*e)\n",
    "print(e*5)\n",
    "print(e*f)"
   ]
  },
  {
   "cell_type": "code",
   "execution_count": 6,
   "metadata": {},
   "outputs": [
    {
     "name": "stdout",
     "output_type": "stream",
     "text": [
      "array is  [[1 2 3]\n",
      " [4 5 6]\n",
      " [7 8 9]]\n",
      "use of size(total ele) and shape(ele in each dim) is  9 (3, 3)\n"
     ]
    }
   ],
   "source": [
    "import numpy as np\n",
    "arr=np.array([[1,2,3],[4,5,6],[7,8,9]])\n",
    "print(\"array is \",arr)\n",
    "print(\"use of size(total ele) and shape(ele in each dim) is \",arr.size,arr.shape)"
   ]
  },
  {
   "cell_type": "code",
   "execution_count": 13,
   "metadata": {},
   "outputs": [
    {
     "name": "stdout",
     "output_type": "stream",
     "text": [
      "use of flatten  [1 2 3 4 5 6 7 8 9]\n",
      "use of transpose  [[1 4 7]\n",
      " [2 5 8]\n",
      " [3 6 9]]\n",
      "use of reshape(alter dim and no of ele in each dim)\n",
      "  [[[1 2 3]]\n",
      "\n",
      " [[4 5 6]]\n",
      "\n",
      " [[7 8 9]]]\n"
     ]
    }
   ],
   "source": [
    "import numpy as np\n",
    "arr=np.array([[1,2,3],[4,5,6],[7,8,9]])\n",
    "print(\"use of flatten \",arr.flatten())\n",
    "print(\"use of transpose \",np.transpose(arr))\n",
    "print(\"use of reshape(alter dim and no of ele in each dim)\\n \",arr.reshape(3,1,3))"
   ]
  },
  {
   "cell_type": "code",
   "execution_count": 9,
   "metadata": {},
   "outputs": [
    {
     "name": "stdout",
     "output_type": "stream",
     "text": [
      "[1 2 3 4 5 6 7 8 9]\n",
      "[1 2 3 4 5 6 7 8 9]\n",
      "(9,)\n",
      "(9,)\n",
      "1\n"
     ]
    }
   ],
   "source": [
    "import numpy as np\n",
    "arr=np.array([[1,2,3],[4,5,6],[7,8,9]])\n",
    "print(arr.reshape(-1))\n",
    "print(arr.reshape(-1).T)\n",
    "a=arr.reshape(-1)\n",
    "print(a.shape)\n",
    "b=a.T\n",
    "print(b.shape)\n",
    "print(a.ndim)"
   ]
  }
 ],
 "metadata": {
  "kernelspec": {
   "display_name": "Python 3",
   "language": "python",
   "name": "python3"
  },
  "language_info": {
   "codemirror_mode": {
    "name": "ipython",
    "version": 3
   },
   "file_extension": ".py",
   "mimetype": "text/x-python",
   "name": "python",
   "nbconvert_exporter": "python",
   "pygments_lexer": "ipython3",
   "version": "3.8.3"
  }
 },
 "nbformat": 4,
 "nbformat_minor": 4
}
