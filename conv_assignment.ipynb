{
 "cells": [
  {
   "cell_type": "code",
   "execution_count": 3,
   "metadata": {},
   "outputs": [],
   "source": [
    "import pandas as pd\n",
    "import tensorflow as tf\n",
    "import numpy as np\n",
    "from tensorflow import keras\n",
    "from tensorflow.keras.models import Sequential\n",
    "from tensorflow.keras.layers import Dense,Conv2D,MaxPool2D,Flatten\n",
    "from tensorflow.keras.activations import relu,softmax\n",
    "from tensorflow.keras.optimizers import Adam"
   ]
  },
  {
   "cell_type": "code",
   "execution_count": 7,
   "metadata": {},
   "outputs": [
    {
     "name": "stdout",
     "output_type": "stream",
     "text": [
      "<class 'pandas.core.frame.DataFrame'>\n",
      "RangeIndex: 60000 entries, 0 to 59999\n",
      "Columns: 785 entries, label to 28x28\n",
      "dtypes: int64(785)\n",
      "memory usage: 359.3 MB\n",
      "None\n",
      "(60000, 785)\n"
     ]
    }
   ],
   "source": [
    "dt=pd.read_csv(\"C:\\\\Users\\\\Gopal SGK\\\\Desktop\\\\mnist_train.csv\")\n",
    "print(dt.info())\n",
    "a=dt.to_numpy()\n",
    "print(np.shape(a))"
   ]
  },
  {
   "cell_type": "code",
   "execution_count": 8,
   "metadata": {},
   "outputs": [
    {
     "name": "stdout",
     "output_type": "stream",
     "text": [
      "(60000, 784)\n",
      "(5000, 28, 28, 1)\n",
      "(60000, 10)\n"
     ]
    }
   ],
   "source": [
    "X=a[:,1:]\n",
    "print(np.shape(X))\n",
    "X_train=X/255\n",
    "X_fit=X_train.reshape([-1,28,28,1])#which i send to model.fit,train set\n",
    "print(np.shape(X_sam))\n",
    "Y=a[:,1]\n",
    "Y_fit=tf.one_hot(\n",
    "    Y, 10, on_value = 1.0, off_value = 0.0, axis =-1)#which i send to model.fit,train set\n",
    "print(np.shape(Y_fit))"
   ]
  },
  {
   "cell_type": "code",
   "execution_count": 9,
   "metadata": {},
   "outputs": [
    {
     "name": "stdout",
     "output_type": "stream",
     "text": [
      "<class 'pandas.core.frame.DataFrame'>\n",
      "RangeIndex: 10000 entries, 0 to 9999\n",
      "Columns: 785 entries, label to 28x28\n",
      "dtypes: int64(785)\n",
      "memory usage: 59.9 MB\n",
      "None\n",
      "(10000, 785)\n",
      "(10000, 784)\n",
      "(10000, 28, 28, 1)\n",
      "(10000, 10)\n"
     ]
    }
   ],
   "source": [
    "dt1=pd.read_csv(\"C:\\\\Users\\\\Gopal SGK\\\\Desktop\\\\mnist_test.csv\")\n",
    "print(dt1.info())\n",
    "b=dt1.to_numpy()\n",
    "print(np.shape(b))\n",
    "X1=b[:,1:]\n",
    "print(np.shape(X1))\n",
    "X2=X1.reshape([-1,28,28,1])\n",
    "X2=X2/255#which i send to model.evaluate,test set\n",
    "print(np.shape(X2))\n",
    "Y1=b[:,1]\n",
    "Y2=tf.one_hot(\n",
    "    Y1, 10, on_value = 1.0, off_value = 0.0, axis =-1)#which i send to model.evaluate,test set\n",
    "print(np.shape(Y2))"
   ]
  },
  {
   "cell_type": "code",
   "execution_count": 18,
   "metadata": {},
   "outputs": [],
   "source": [
    "model=Sequential([\n",
    "    Conv2D(filters=5,kernel_size=(3,3),activation='relu',padding='same',input_shape=(28,28,1)),\n",
    "    MaxPool2D(pool_size=(2,2), strides=2),\n",
    "    Conv2D(filters=5,kernel_size=(3,3),activation='relu',padding='same'),\n",
    "    MaxPool2D(pool_size=(2,2),strides=2),\n",
    "    Flatten(),\n",
    "    Dense(units=10,activation='softmax')\n",
    "])"
   ]
  },
  {
   "cell_type": "code",
   "execution_count": 19,
   "metadata": {},
   "outputs": [],
   "source": [
    "model.compile(optimizer=Adam(learning_rate=0.001),loss='categorical_crossentropy',metrics=['accuracy'])"
   ]
  },
  {
   "cell_type": "code",
   "execution_count": 20,
   "metadata": {},
   "outputs": [
    {
     "name": "stdout",
     "output_type": "stream",
     "text": [
      "Epoch 1/5\n",
      "60/60 [==============================] - 14s 216ms/step - loss: 1.6925 - accuracy: 0.5372\n",
      "Epoch 2/5\n",
      "60/60 [==============================] - 13s 214ms/step - loss: 0.0028 - accuracy: 1.0000\n",
      "Epoch 3/5\n",
      "60/60 [==============================] - 13s 219ms/step - loss: 0.0012 - accuracy: 1.0000\n",
      "Epoch 4/5\n",
      "60/60 [==============================] - 13s 221ms/step - loss: 7.4571e-04 - accuracy: 1.0000\n",
      "Epoch 5/5\n",
      "60/60 [==============================] - 13s 219ms/step - loss: 5.2120e-04 - accuracy: 1.0000\n"
     ]
    },
    {
     "data": {
      "text/plain": [
       "<tensorflow.python.keras.callbacks.History at 0x1c0714b7670>"
      ]
     },
     "execution_count": 20,
     "metadata": {},
     "output_type": "execute_result"
    }
   ],
   "source": [
    "model.fit(X_fit,Y_fit,batch_size=1000,epochs=5)"
   ]
  },
  {
   "cell_type": "code",
   "execution_count": 22,
   "metadata": {},
   "outputs": [
    {
     "name": "stdout",
     "output_type": "stream",
     "text": [
      "Test loss: 0.00040842060116119683 / Test accuracy: 1.0\n"
     ]
    }
   ],
   "source": [
    "score = model.evaluate(X2, Y2, verbose=0)\n",
    "print(f'Test loss: {score[0]} / Test accuracy: {score[1]}')"
   ]
  }
 ],
 "metadata": {
  "kernelspec": {
   "display_name": "Python 3",
   "language": "python",
   "name": "python3"
  },
  "language_info": {
   "codemirror_mode": {
    "name": "ipython",
    "version": 3
   },
   "file_extension": ".py",
   "mimetype": "text/x-python",
   "name": "python",
   "nbconvert_exporter": "python",
   "pygments_lexer": "ipython3",
   "version": "3.8.3"
  }
 },
 "nbformat": 4,
 "nbformat_minor": 4
}
